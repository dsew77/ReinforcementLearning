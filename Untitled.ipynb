{
 "cells": [
  {
   "cell_type": "code",
   "execution_count": 2,
   "id": "297736de",
   "metadata": {},
   "outputs": [
    {
     "name": "stdout",
     "output_type": "stream",
     "text": [
      "Collecting gym\n",
      "  Downloading gym-0.21.0.tar.gz (1.5 MB)\n",
      "Requirement already satisfied: numpy>=1.18.0 in c:\\users\\rscha\\anaconda3\\lib\\site-packages (from gym) (1.20.1)\n",
      "Requirement already satisfied: cloudpickle>=1.2.0 in c:\\users\\rscha\\anaconda3\\lib\\site-packages (from gym) (1.6.0)\n",
      "Building wheels for collected packages: gym\n",
      "  Building wheel for gym (setup.py): started\n",
      "  Building wheel for gym (setup.py): finished with status 'done'\n",
      "  Created wheel for gym: filename=gym-0.21.0-py3-none-any.whl size=1616824 sha256=0740d1e83b27907e9d4925bb692a94d5d4d4aec0a16b4577c179b5aa94b30d02\n",
      "  Stored in directory: c:\\users\\rscha\\appdata\\local\\pip\\cache\\wheels\\27\\6d\\b3\\a3a6e10704795c9b9000f1ab2dc480dfe7bed42f5972806e73\n",
      "Successfully built gym\n",
      "Installing collected packages: gym\n",
      "Successfully installed gym-0.21.0\n",
      "Note: you may need to restart the kernel to use updated packages.\n"
     ]
    }
   ],
   "source": [
    "pip install gym"
   ]
  },
  {
   "cell_type": "code",
   "execution_count": 7,
   "id": "13fea058",
   "metadata": {},
   "outputs": [
    {
     "name": "stdout",
     "output_type": "stream",
     "text": [
      "+---------+\n",
      "|R: |\u001b[43m \u001b[0m: :\u001b[35mG\u001b[0m|\n",
      "| : | : : |\n",
      "| : : : : |\n",
      "| | : | : |\n",
      "|Y| : |\u001b[34;1mB\u001b[0m: |\n",
      "+---------+\n",
      "\n"
     ]
    }
   ],
   "source": [
    "import gym\n",
    "env = gym.make(\"Taxi-v3\").env\n",
    "env.render()"
   ]
  },
  {
   "cell_type": "code",
   "execution_count": 8,
   "id": "7770693a",
   "metadata": {},
   "outputs": [
    {
     "name": "stdout",
     "output_type": "stream",
     "text": [
      "+---------+\n",
      "|\u001b[35mR\u001b[0m: | : :G|\n",
      "| : |\u001b[43m \u001b[0m: : |\n",
      "| : : : : |\n",
      "| | : | : |\n",
      "|Y| : |\u001b[34;1mB\u001b[0m: |\n",
      "+---------+\n",
      "\n",
      "Action Space Discrete(6)\n",
      "State Space Discrete(500)\n"
     ]
    }
   ],
   "source": [
    "env.reset() # reset environment to a new, random state\n",
    "env.render()\n",
    "\n",
    "print(\"Action Space {}\".format(env.action_space))\n",
    "print(\"State Space {}\".format(env.observation_space))"
   ]
  },
  {
   "cell_type": "code",
   "execution_count": 12,
   "id": "5de99f2f",
   "metadata": {},
   "outputs": [
    {
     "name": "stdout",
     "output_type": "stream",
     "text": [
      "State: 328\n",
      "+---------+\n",
      "|\u001b[35mR\u001b[0m: | : :G|\n",
      "| : | : : |\n",
      "| : : : : |\n",
      "| |\u001b[43m \u001b[0m: | : |\n",
      "|\u001b[34;1mY\u001b[0m| : |B: |\n",
      "+---------+\n",
      "\n"
     ]
    }
   ],
   "source": [
    "state = env.encode(3, 1, 2, 0) # (taxi row, taxi column, passenger index, destination index)\n",
    "print(\"State:\", state)\n",
    "\n",
    "env.s = state\n",
    "env.render()"
   ]
  },
  {
   "cell_type": "code",
   "execution_count": 13,
   "id": "3e74f937",
   "metadata": {},
   "outputs": [
    {
     "data": {
      "text/plain": [
       "{0: [(1.0, 428, -1, False)],\n",
       " 1: [(1.0, 228, -1, False)],\n",
       " 2: [(1.0, 348, -1, False)],\n",
       " 3: [(1.0, 328, -1, False)],\n",
       " 4: [(1.0, 328, -10, False)],\n",
       " 5: [(1.0, 328, -10, False)]}"
      ]
     },
     "execution_count": 13,
     "metadata": {},
     "output_type": "execute_result"
    }
   ],
   "source": [
    "#0-5 are the actions\n",
    "#0 = south\n",
    "#1 = north\n",
    "#2 = east\n",
    "#3 = west\n",
    "#4 = pickup\n",
    "#5 = dropoff\n",
    "#1.0 = probability\n",
    "# next number = state\n",
    "# next number = penalty\n",
    "# last is whether it is done or not\n",
    "env.P[328]"
   ]
  },
  {
   "cell_type": "code",
   "execution_count": 34,
   "id": "021b98b0",
   "metadata": {},
   "outputs": [
    {
     "name": "stdout",
     "output_type": "stream",
     "text": [
      "Timesteps taken: 720\n",
      "Penalties incurred: 233\n"
     ]
    }
   ],
   "source": [
    "epochs = 0\n",
    "penalties, reward = 0, 0\n",
    "\n",
    "frames = [] # for animation\n",
    "\n",
    "done = False\n",
    "\n",
    "while not done:\n",
    "    action = env.action_space.sample()\n",
    "    state, reward, done, info = env.step(action)\n",
    "\n",
    "    if reward == -10:\n",
    "        penalties += 1\n",
    "    \n",
    "    # Put each rendered frame into dict for animation\n",
    "    frames.append({\n",
    "        'frame': env.render(mode='ansi'),\n",
    "        'episode': '0',\n",
    "        'state': state,\n",
    "        'action': action,\n",
    "        'reward': reward\n",
    "        }\n",
    "    )\n",
    "\n",
    "    epochs += 1\n",
    "    \n",
    "    \n",
    "print(\"Timesteps taken: {}\".format(epochs))\n",
    "print(\"Penalties incurred: {}\".format(penalties))"
   ]
  },
  {
   "cell_type": "code",
   "execution_count": 35,
   "id": "d8f93e43",
   "metadata": {},
   "outputs": [
    {
     "data": {
      "text/plain": [
       "(0, -1, False, {'prob': 1.0})"
      ]
     },
     "execution_count": 35,
     "metadata": {},
     "output_type": "execute_result"
    }
   ],
   "source": [
    "env.step(1)"
   ]
  },
  {
   "cell_type": "code",
   "execution_count": 55,
   "id": "ba372c12",
   "metadata": {},
   "outputs": [],
   "source": [
    "from IPython.display import clear_output\n",
    "from time import sleep\n",
    "import random\n",
    "\n",
    "def print_frames(frames):\n",
    "    for i, frame in enumerate(frames):\n",
    "        clear_output(wait=True)\n",
    "        print(frame['frame'])\n",
    "        print(f\"Episode: {frame['episode']}\")\n",
    "        print(f\"Timestep: {i + 1}\")\n",
    "        print(f\"State: {frame['state']}\")\n",
    "        print(f\"Action: {frame['action']}\")\n",
    "        print(f\"Reward: {frame['reward']}\")\n",
    "        sleep(1)"
   ]
  },
  {
   "cell_type": "code",
   "execution_count": 40,
   "id": "4154285a",
   "metadata": {},
   "outputs": [],
   "source": [
    "#print_frames(frames)\n"
   ]
  },
  {
   "cell_type": "code",
   "execution_count": 30,
   "id": "4ebaf7b8",
   "metadata": {},
   "outputs": [
    {
     "data": {
      "text/plain": [
       "{'frame': '+---------+\\n|\\x1b[35mR\\x1b[0m: | : :G|\\n| : | : : |\\n| : : : : |\\n| | :\\x1b[43m \\x1b[0m| : |\\n|\\x1b[34;1mY\\x1b[0m| : |B: |\\n+---------+\\n  (East)\\n',\n",
       " 'state': 348,\n",
       " 'action': 2,\n",
       " 'reward': -1}"
      ]
     },
     "execution_count": 30,
     "metadata": {},
     "output_type": "execute_result"
    }
   ],
   "source": [
    "frames[0]"
   ]
  },
  {
   "cell_type": "code",
   "execution_count": 43,
   "id": "eed54120",
   "metadata": {},
   "outputs": [],
   "source": [
    "#Reinforcement learning uisng Q-learning\n",
    "import numpy as np\n",
    "q_table = np.zeros([env.observation_space.n, env.action_space.n])"
   ]
  },
  {
   "cell_type": "code",
   "execution_count": 64,
   "id": "9c2c5463",
   "metadata": {},
   "outputs": [
    {
     "name": "stdout",
     "output_type": "stream",
     "text": [
      "Ruaa\n",
      "Ruaa\n",
      "Ruaa\n",
      "Ruaa\n",
      "Ruaa\n",
      "Ruaa\n",
      "Ruaa\n",
      "Ruaa\n",
      "Ruaa\n",
      "Ruaa\n",
      "Ruaa\n",
      "Ruaa\n",
      "Ruaa\n",
      "Ruaa\n",
      "Ruaa\n",
      "Ruaa\n",
      "Ruaa\n",
      "Ruaa\n",
      "Ruaa\n",
      "Ruaa\n",
      "Ruaa\n",
      "Ruaa\n",
      "Ruaa\n",
      "Ruaa\n",
      "Ruaa\n",
      "Ruaa\n",
      "Ruaa\n",
      "Ruaa\n",
      "Ruaa\n",
      "Ruaa\n",
      "Ruaa\n",
      "Ruaa\n",
      "Ruaa\n",
      "Ruaa\n",
      "Ruaa\n",
      "Ruaa\n",
      "Ruaa\n",
      "Ruaa\n",
      "Ruaa\n",
      "Ruaa\n",
      "Ruaa\n",
      "Ruaa\n",
      "Ruaa\n",
      "Ruaa\n",
      "Ruaa\n",
      "Ruaa\n",
      "Ruaa\n",
      "Ruaa\n",
      "Ruaa\n",
      "Ruaa\n",
      "Ruaa\n",
      "Ruaa\n",
      "Ruaa\n",
      "Ruaa\n",
      "Ruaa\n",
      "Ruaa\n",
      "Ruaa\n",
      "Ruaa\n",
      "Ruaa\n",
      "Ruaa\n",
      "Ruaa\n",
      "Ruaa\n",
      "Ruaa\n",
      "Ruaa\n",
      "Ruaa\n",
      "Ruaa\n",
      "Ruaa\n",
      "Ruaa\n",
      "Ruaa\n",
      "Ruaa\n",
      "Ruaa\n",
      "Ruaa\n",
      "Ruaa\n",
      "Ruaa\n",
      "Ruaa\n",
      "Ruaa\n",
      "Ruaa\n",
      "Ruaa\n",
      "Ruaa\n",
      "Ruaa\n",
      "Ruaa\n",
      "Ruaa\n",
      "Ruaa\n",
      "Ruaa\n",
      "Ruaa\n",
      "Ruaa\n",
      "Ruaa\n",
      "Ruaa\n",
      "Ruaa\n",
      "Ruaa\n",
      "Ruaa\n",
      "Ruaa\n",
      "Ruaa\n",
      "Ruaa\n",
      "Ruaa\n",
      "Ruaa\n",
      "Ruaa\n",
      "Ruaa\n",
      "Ruaa\n",
      "Ruaa\n",
      "Finished\n"
     ]
    }
   ],
   "source": [
    "#training the agent\n",
    "\n",
    "alpha = 0.1\n",
    "gamma = 0.6\n",
    "epsilon = 0.1\n",
    "\n",
    "#For plotting\n",
    "\n",
    "all_epochs = []\n",
    "all_penalties = []\n",
    "\n",
    "num_training_iterations = 10000\n",
    "\n",
    "for i in range(0, num_training_iterations):\n",
    "    state = env.reset()\n",
    "    \n",
    "    epochs, penalty, rewards = 0, 0, 0\n",
    "    done = False\n",
    "    \n",
    "    while not done:\n",
    "        #Pick a random action or the best option (based on the learned values) (exploration vs eploitation)\n",
    "        if random.uniform(0,1) < epsilon:\n",
    "            action = env.action_space.sample()\n",
    "        else:\n",
    "            action = np.argmax(q_table[state])\n",
    "            \n",
    "        next_state, reward, done, info = env.step(action)\n",
    "        \n",
    "        old_value = q_table[state,action]\n",
    "        \n",
    "        next_max = np.max(q_table[next_state])\n",
    "        \n",
    "        new_value = (1-alpha) * old_value + alpha * (reward + gamma * next_max)\n",
    "        q_table[state, action] = new_value\n",
    "\n",
    "        if reward == -10:\n",
    "            penalties += 1\n",
    "            \n",
    "        state = next_state\n",
    "        epochs += 1\n",
    "        \n",
    "    \n",
    "    if i%100 == 0:\n",
    "        print('Ruaa')\n",
    "    \n",
    "print('Finished')\n",
    "\n",
    "\n",
    "\n",
    "\n",
    "\n",
    "\n",
    "\n",
    "\n",
    "\n",
    "\n",
    "\n",
    "\n",
    "\n",
    "\n",
    "\n",
    "\n",
    "\n",
    "\n"
   ]
  },
  {
   "cell_type": "code",
   "execution_count": 51,
   "id": "d52ca93d",
   "metadata": {},
   "outputs": [],
   "source": [
    "action = 4"
   ]
  },
  {
   "cell_type": "code",
   "execution_count": 52,
   "id": "0639dc21",
   "metadata": {},
   "outputs": [],
   "source": [
    " next_state, reward, done, info = env.step(action)"
   ]
  },
  {
   "cell_type": "code",
   "execution_count": 53,
   "id": "aaef2d02",
   "metadata": {},
   "outputs": [
    {
     "data": {
      "text/plain": [
       "16"
      ]
     },
     "execution_count": 53,
     "metadata": {},
     "output_type": "execute_result"
    }
   ],
   "source": [
    "next_state"
   ]
  },
  {
   "cell_type": "code",
   "execution_count": 75,
   "id": "669d82e2",
   "metadata": {},
   "outputs": [
    {
     "name": "stdout",
     "output_type": "stream",
     "text": [
      "Results after 5 episodes:\n",
      "Average timesteps per episode: 13.4\n",
      "Average penalties per episode: 0.0\n"
     ]
    }
   ],
   "source": [
    "total_epochs, total_penalties = 0, 0\n",
    "episodes =5\n",
    "frames = []\n",
    "\n",
    "for ep in range(episodes):\n",
    "    state = env.reset()\n",
    "    epochs, penalties, reward = 0, 0, 0\n",
    "    \n",
    "    done = False\n",
    "    \n",
    "    while not done:\n",
    "        action = np.argmax(q_table[state])\n",
    "        state, reward, done, info = env.step(action)\n",
    "\n",
    "        if reward == -10:\n",
    "            penalties += 1\n",
    "        \n",
    "        # Put each rendered frame into dict for animation\n",
    "        frames.append({\n",
    "            'frame': env.render(mode='ansi'),\n",
    "            'episode': ep, \n",
    "            'state': state,\n",
    "            'action': action,\n",
    "            'reward': reward\n",
    "            }\n",
    "        )\n",
    "        epochs += 1\n",
    "\n",
    "    total_penalties += penalties\n",
    "    total_epochs += epochs\n",
    "\n",
    "print(f\"Results after {episodes} episodes:\")\n",
    "print(f\"Average timesteps per episode: {total_epochs / episodes}\")\n",
    "print(f\"Average penalties per episode: {total_penalties / episodes}\")"
   ]
  },
  {
   "cell_type": "code",
   "execution_count": 77,
   "id": "c6b58f33",
   "metadata": {},
   "outputs": [],
   "source": [
    "#print_frames(frames)"
   ]
  },
  {
   "cell_type": "code",
   "execution_count": null,
   "id": "75ada5c7",
   "metadata": {},
   "outputs": [],
   "source": []
  },
  {
   "cell_type": "code",
   "execution_count": null,
   "id": "75aa26f9",
   "metadata": {},
   "outputs": [],
   "source": []
  }
 ],
 "metadata": {
  "kernelspec": {
   "display_name": "Python 3",
   "language": "python",
   "name": "python3"
  },
  "language_info": {
   "codemirror_mode": {
    "name": "ipython",
    "version": 3
   },
   "file_extension": ".py",
   "mimetype": "text/x-python",
   "name": "python",
   "nbconvert_exporter": "python",
   "pygments_lexer": "ipython3",
   "version": "3.8.8"
  }
 },
 "nbformat": 4,
 "nbformat_minor": 5
}
